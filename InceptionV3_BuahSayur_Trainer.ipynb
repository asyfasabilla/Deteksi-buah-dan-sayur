{
 "cells": [
  {
   "cell_type": "code",
   "execution_count": null,
   "id": "b386ac7d",
   "metadata": {},
   "outputs": [
    {
     "name": "stdout",
     "output_type": "stream",
     "text": [
      "Found 43324 images belonging to 77 classes.\n",
      "Found 3576 images belonging to 77 classes.\n"
     ]
    },
    {
     "name": "stderr",
     "output_type": "stream",
     "text": [
      "C:\\Users\\hsant\\anaconda3\\envs\\Kuliah-AI\\lib\\site-packages\\keras\\src\\trainers\\data_adapters\\py_dataset_adapter.py:121: UserWarning: Your `PyDataset` class should call `super().__init__(**kwargs)` in its constructor. `**kwargs` can include `workers`, `use_multiprocessing`, `max_queue_size`. Do not pass these arguments to `fit()`, as they will be ignored.\n",
      "  self._warn_if_super_not_called()\n"
     ]
    },
    {
     "name": "stdout",
     "output_type": "stream",
     "text": [
      "Epoch 1/15\n"
     ]
    }
   ],
   "source": [
    "from tensorflow.keras.preprocessing.image import ImageDataGenerator\n",
    "from tensorflow.keras.applications.inception_v3 import InceptionV3\n",
    "from tensorflow.keras.models import Model\n",
    "from tensorflow.keras.layers import Dense, GlobalAveragePooling2D\n",
    "from tensorflow.keras.optimizers import Adam\n",
    "import tensorflow as tf\n",
    "import matplotlib.pyplot as plt\n",
    "import os\n",
    "\n",
    "# SETUP PATH - SESUAIKAN DENGAN LOKASI DI KOMPUTERMU\n",
    "base_path = \"dataset\"\n",
    "train_dir = os.path.join(base_path, \"train\")\n",
    "val_dir = os.path.join(base_path, \"test\")  # gunakan 'test' sebagai validation\n",
    "\n",
    "# IMAGE DATA GENERATORS\n",
    "train_gen = ImageDataGenerator(\n",
    "    rescale=1./255,\n",
    "    rotation_range=20,\n",
    "    zoom_range=0.2,\n",
    "    horizontal_flip=True\n",
    ")\n",
    "val_gen = ImageDataGenerator(rescale=1./255)\n",
    "\n",
    "# LOAD DATA\n",
    "train_data = train_gen.flow_from_directory(\n",
    "    train_dir,\n",
    "    target_size=(150, 150),\n",
    "    batch_size=32,\n",
    "    class_mode='categorical'\n",
    ")\n",
    "\n",
    "val_data = val_gen.flow_from_directory(\n",
    "    val_dir,\n",
    "    target_size=(150, 150),\n",
    "    batch_size=32,\n",
    "    class_mode='categorical'\n",
    ")\n",
    "\n",
    "# BUILD MODEL\n",
    "base_model = InceptionV3(include_top=False, weights='imagenet', input_shape=(150, 150, 3))\n",
    "x = base_model.output\n",
    "x = GlobalAveragePooling2D()(x)\n",
    "x = Dense(128, activation='relu')(x)\n",
    "predictions = Dense(train_data.num_classes, activation='softmax')(x)\n",
    "\n",
    "model = Model(inputs=base_model.input, outputs=predictions)\n",
    "\n",
    "# FREEZE BASE MODEL\n",
    "for layer in base_model.layers:\n",
    "    layer.trainable = False\n",
    "\n",
    "# COMPILE\n",
    "model.compile(optimizer=Adam(learning_rate=0.0005), loss='categorical_crossentropy', metrics=['accuracy'])\n",
    "\n",
    "# TRAIN\n",
    "history = model.fit(\n",
    "    train_data,\n",
    "    epochs=15,\n",
    "    validation_data=val_data\n",
    ")\n",
    "\n",
    "# SAVE TO H5\n",
    "model.save(\"model_buah_sayur.h5\")\n",
    "print(\"✅ Model saved as 'model_buah_sayur.h5'\")\n",
    "\n",
    "# SAVE TO TFLITE\n",
    "converter = tf.lite.TFLiteConverter.from_keras_model(model)\n",
    "tflite_model = converter.convert()\n",
    "with open(\"model_buah_sayur.tflite\", \"wb\") as f:\n",
    "    f.write(tflite_model)\n",
    "print(\"✅ Model saved as 'model_buah_sayur.tflite'\")\n",
    "\n",
    "# SAVE LABELS\n",
    "label_dict = train_data.class_indices\n",
    "label_dict = {v: k for k, v in label_dict.items()}\n",
    "with open(\"label_map.txt\", \"w\") as f:\n",
    "    for idx in sorted(label_dict):\n",
    "        f.write(f\"{label_dict[idx]}\\n\")\n",
    "print(\"✅ Label map saved as 'label_map.txt'\")\n",
    "\n",
    "# OPTIONAL: PLOT HISTORY\n",
    "plt.figure(figsize=(10, 4))\n",
    "plt.subplot(1, 2, 1)\n",
    "plt.plot(history.history['accuracy'], label=\"Train Accuracy\")\n",
    "plt.plot(history.history['val_accuracy'], label=\"Val Accuracy\")\n",
    "plt.title(\"Accuracy\")\n",
    "plt.legend()\n",
    "\n",
    "plt.subplot(1, 2, 2)\n",
    "plt.plot(history.history['loss'], label=\"Train Loss\")\n",
    "plt.plot(history.history['val_loss'], label=\"Val Loss\")\n",
    "plt.title(\"Loss\")\n",
    "plt.legend()\n",
    "plt.show()\n"
   ]
  },
  {
   "cell_type": "code",
   "execution_count": null,
   "id": "17f63de7",
   "metadata": {},
   "outputs": [],
   "source": [
    "# Visualisasi akurasi\n",
    "plt.plot(history.history['accuracy'], label='Train Accuracy')\n",
    "plt.plot(history.history['val_accuracy'], label='Validation Accuracy')\n",
    "plt.title('Accuracy over Epochs')\n",
    "plt.xlabel('Epoch')\n",
    "plt.ylabel('Accuracy')\n",
    "plt.legend()\n",
    "plt.grid(True)\n",
    "plt.show()\n"
   ]
  }
 ],
 "metadata": {
  "kernelspec": {
   "display_name": "Python 3 (ipykernel)",
   "language": "python",
   "name": "python3"
  },
  "language_info": {
   "codemirror_mode": {
    "name": "ipython",
    "version": 3
   },
   "file_extension": ".py",
   "mimetype": "text/x-python",
   "name": "python",
   "nbconvert_exporter": "python",
   "pygments_lexer": "ipython3",
   "version": "3.10.16"
  }
 },
 "nbformat": 4,
 "nbformat_minor": 5
}
